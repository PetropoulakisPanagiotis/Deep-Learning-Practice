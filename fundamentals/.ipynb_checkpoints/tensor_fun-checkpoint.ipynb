{
 "cells": [
  {
   "cell_type": "code",
   "execution_count": 1,
   "id": "5404af74",
   "metadata": {},
   "outputs": [],
   "source": [
    "import torch"
   ]
  },
  {
   "cell_type": "code",
   "execution_count": 13,
   "id": "89ebf5f3",
   "metadata": {},
   "outputs": [],
   "source": [
    "device = \"cuda\" if torch.cuda.is_available() else \"cpu\""
   ]
  },
  {
   "cell_type": "code",
   "execution_count": 14,
   "id": "3c945e8b",
   "metadata": {},
   "outputs": [],
   "source": [
    "t = torch.tensor([[1,2,3], [4,5,6]], dtype=torch.float32, device=device, requires_grad=True)"
   ]
  },
  {
   "cell_type": "code",
   "execution_count": 17,
   "id": "3b1b9824",
   "metadata": {},
   "outputs": [
    {
     "data": {
      "text/plain": [
       "(torch.Size([2, 3]),\n",
       " tensor([[1., 2., 3.],\n",
       "         [4., 5., 6.]], device='cuda:0', requires_grad=True),\n",
       " torch.float32,\n",
       " device(type='cuda', index=0))"
      ]
     },
     "execution_count": 17,
     "metadata": {},
     "output_type": "execute_result"
    }
   ],
   "source": [
    "t.shape, t, t.dtype, t.device"
   ]
  },
  {
   "cell_type": "code",
   "execution_count": 21,
   "id": "a14186a8",
   "metadata": {},
   "outputs": [],
   "source": [
    "x = torch.empty(size = (3, 3)) #* 0# uninitialized "
   ]
  },
  {
   "cell_type": "code",
   "execution_count": 25,
   "id": "56d9d1fd",
   "metadata": {},
   "outputs": [
    {
     "data": {
      "text/plain": [
       "tensor([[0., 0., 0.],\n",
       "        [0., 0., 0.],\n",
       "        [0., 0., 0.]])"
      ]
     },
     "execution_count": 25,
     "metadata": {},
     "output_type": "execute_result"
    }
   ],
   "source": [
    "x = torch.zeros((3,3)); x"
   ]
  },
  {
   "cell_type": "code",
   "execution_count": 28,
   "id": "83ed4b2f",
   "metadata": {},
   "outputs": [
    {
     "data": {
      "text/plain": [
       "tensor([[ 0.2274,  1.2784,  0.1433],\n",
       "        [ 1.1873,  1.0478, -1.2066],\n",
       "        [ 0.0462, -2.0567,  0.6263]])"
      ]
     },
     "execution_count": 28,
     "metadata": {},
     "output_type": "execute_result"
    }
   ],
   "source": [
    "x = torch.rand((3,3)); x; "
   ]
  },
  {
   "cell_type": "code",
   "execution_count": 31,
   "id": "726cab1e",
   "metadata": {},
   "outputs": [
    {
     "data": {
      "text/plain": [
       "tensor([[ 0.4285,  0.1381, -0.6123],\n",
       "        [-0.0505,  0.9841,  0.2835],\n",
       "        [ 0.0686,  1.2553, -2.1612]])"
      ]
     },
     "execution_count": 31,
     "metadata": {},
     "output_type": "execute_result"
    }
   ],
   "source": [
    "x = torch.randn((3,3)); x"
   ]
  },
  {
   "cell_type": "code",
   "execution_count": 32,
   "id": "28b8e1b8",
   "metadata": {},
   "outputs": [
    {
     "data": {
      "text/plain": [
       "tensor([[1., 1., 1.],\n",
       "        [1., 1., 1.],\n",
       "        [1., 1., 1.]])"
      ]
     },
     "execution_count": 32,
     "metadata": {},
     "output_type": "execute_result"
    }
   ],
   "source": [
    "x = torch.ones((3,3)); x"
   ]
  },
  {
   "cell_type": "code",
   "execution_count": 34,
   "id": "b2e7e5a7",
   "metadata": {},
   "outputs": [
    {
     "data": {
      "text/plain": [
       "tensor([[1., 0., 0., 0., 0.],\n",
       "        [0., 1., 0., 0., 0.],\n",
       "        [0., 0., 1., 0., 0.],\n",
       "        [0., 0., 0., 1., 0.],\n",
       "        [0., 0., 0., 0., 1.]])"
      ]
     },
     "execution_count": 34,
     "metadata": {},
     "output_type": "execute_result"
    }
   ],
   "source": [
    "x = torch.eye(5,5); x"
   ]
  },
  {
   "cell_type": "code",
   "execution_count": 36,
   "id": "df0f6413",
   "metadata": {},
   "outputs": [
    {
     "data": {
      "text/plain": [
       "tensor([0, 2, 4])"
      ]
     },
     "execution_count": 36,
     "metadata": {},
     "output_type": "execute_result"
    }
   ],
   "source": [
    "x = torch.arange(start=0, end=5, step=2); x"
   ]
  },
  {
   "cell_type": "code",
   "execution_count": 38,
   "id": "5a41217f",
   "metadata": {},
   "outputs": [
    {
     "data": {
      "text/plain": [
       "tensor([0.1000, 0.2000, 0.3000, 0.4000, 0.5000, 0.6000, 0.7000, 0.8000, 0.9000,\n",
       "        1.0000])"
      ]
     },
     "execution_count": 38,
     "metadata": {},
     "output_type": "execute_result"
    }
   ],
   "source": [
    "x = torch.linspace(start=0.1, end=1, steps=10); x"
   ]
  },
  {
   "cell_type": "code",
   "execution_count": 39,
   "id": "6a14f6d4",
   "metadata": {},
   "outputs": [
    {
     "data": {
      "text/plain": [
       "tensor([[-0.5735, -0.8930, -1.3359,  0.3018,  0.9050]])"
      ]
     },
     "execution_count": 39,
     "metadata": {},
     "output_type": "execute_result"
    }
   ],
   "source": [
    "x = torch.empty(size=(1,5)).normal_(mean=0, std=1); x"
   ]
  },
  {
   "cell_type": "code",
   "execution_count": 41,
   "id": "aa47f90f",
   "metadata": {},
   "outputs": [
    {
     "data": {
      "text/plain": [
       "tensor([[0.5739, 0.2255, 0.0970, 0.9085, 0.1339]])"
      ]
     },
     "execution_count": 41,
     "metadata": {},
     "output_type": "execute_result"
    }
   ],
   "source": [
    "x = torch.empty(size=(1,5)).uniform_(0,1); x"
   ]
  },
  {
   "cell_type": "code",
   "execution_count": 42,
   "id": "0908a666",
   "metadata": {},
   "outputs": [
    {
     "data": {
      "text/plain": [
       "tensor([[1., 0., 0.],\n",
       "        [0., 1., 0.],\n",
       "        [0., 0., 1.]])"
      ]
     },
     "execution_count": 42,
     "metadata": {},
     "output_type": "execute_result"
    }
   ],
   "source": [
    "x = torch.diag(torch.ones(3)); x"
   ]
  },
  {
   "cell_type": "code",
   "execution_count": 43,
   "id": "950b404c",
   "metadata": {},
   "outputs": [
    {
     "data": {
      "text/plain": [
       "True"
      ]
     },
     "execution_count": 43,
     "metadata": {},
     "output_type": "execute_result"
    }
   ],
   "source": [
    "(torch.diag(torch.ones(3)) == torch.eye(3)).all().item()"
   ]
  },
  {
   "cell_type": "code",
   "execution_count": 47,
   "id": "43b19cc1",
   "metadata": {},
   "outputs": [
    {
     "data": {
      "text/plain": [
       "torch.int64"
      ]
     },
     "execution_count": 47,
     "metadata": {},
     "output_type": "execute_result"
    }
   ],
   "source": [
    "x = torch.arange(4)\n",
    "#x.sort()\n",
    "x.long().dtype # int 64 \n",
    "x.float().dtype #32 \n",
    "x.double().dtype # 64\n",
    "#x.half()\n",
    "#x.bool()"
   ]
  },
  {
   "cell_type": "code",
   "execution_count": 49,
   "id": "b876646c",
   "metadata": {},
   "outputs": [],
   "source": [
    "import numpy as np"
   ]
  },
  {
   "cell_type": "code",
   "execution_count": 51,
   "id": "15695339",
   "metadata": {},
   "outputs": [],
   "source": [
    "n = np.zeros((5,5))\n",
    "t = torch.from_numpy(n)\n",
    "n_b = t.numpy()"
   ]
  },
  {
   "cell_type": "code",
   "execution_count": 53,
   "id": "db218a61",
   "metadata": {},
   "outputs": [],
   "source": [
    "x = torch.tensor([1,2,3])\n",
    "y = torch.tensor([9,8,7])\n",
    "z1 = torch.empty(3)\n",
    "torch.add(x,y,out=z1); z1\n",
    "z2 = torch.add(x,y)"
   ]
  },
  {
   "cell_type": "code",
   "execution_count": 55,
   "id": "aff2c95b",
   "metadata": {},
   "outputs": [
    {
     "data": {
      "text/plain": [
       "tensor([0.1111, 0.2500, 0.4286])"
      ]
     },
     "execution_count": 55,
     "metadata": {},
     "output_type": "execute_result"
    }
   ],
   "source": [
    "z = torch.true_divide(x,y);z"
   ]
  },
  {
   "cell_type": "code",
   "execution_count": 56,
   "id": "54e39632",
   "metadata": {},
   "outputs": [
    {
     "data": {
      "text/plain": [
       "tensor([0.5000, 1.0000, 1.5000])"
      ]
     },
     "execution_count": 56,
     "metadata": {},
     "output_type": "execute_result"
    }
   ],
   "source": [
    "z = torch.true_divide(x,2);z"
   ]
  },
  {
   "cell_type": "code",
   "execution_count": 57,
   "id": "65b3bd63",
   "metadata": {},
   "outputs": [
    {
     "data": {
      "text/plain": [
       "tensor([1., 2., 3.])"
      ]
     },
     "execution_count": 57,
     "metadata": {},
     "output_type": "execute_result"
    }
   ],
   "source": [
    "t = torch.zeros(3)\n",
    "t.add_(x) # inplace not a copy faster "
   ]
  },
  {
   "cell_type": "code",
   "execution_count": null,
   "id": "7fa756d6",
   "metadata": {},
   "outputs": [],
   "source": [
    "t += x  # inplace != -> t = t + x "
   ]
  },
  {
   "cell_type": "code",
   "execution_count": 60,
   "id": "000ea988",
   "metadata": {},
   "outputs": [
    {
     "data": {
      "text/plain": [
       "tensor([1, 4, 9])"
      ]
     },
     "execution_count": 60,
     "metadata": {},
     "output_type": "execute_result"
    }
   ],
   "source": [
    "z = x.pow(2); z\n",
    "z = x ** 2; z"
   ]
  },
  {
   "cell_type": "code",
   "execution_count": 62,
   "id": "25b29e59",
   "metadata": {},
   "outputs": [
    {
     "data": {
      "text/plain": [
       "tensor([False, False, False])"
      ]
     },
     "execution_count": 62,
     "metadata": {},
     "output_type": "execute_result"
    }
   ],
   "source": [
    "z = x > 0\n",
    "z  = x < 0; z"
   ]
  },
  {
   "cell_type": "code",
   "execution_count": 67,
   "id": "08716cc5",
   "metadata": {},
   "outputs": [
    {
     "data": {
      "text/plain": [
       "torch.Size([2, 3])"
      ]
     },
     "execution_count": 67,
     "metadata": {},
     "output_type": "execute_result"
    }
   ],
   "source": [
    "x1 = torch.rand((2,5))\n",
    "x2 = torch.rand((5,3))\n",
    "x3 = torch.mm(x1, x2);x3.shape # x1.mm(m2)\n",
    "x3 = x1 @ x2; x3.shape"
   ]
  },
  {
   "cell_type": "code",
   "execution_count": 69,
   "id": "0a45acfb",
   "metadata": {},
   "outputs": [
    {
     "data": {
      "text/plain": [
       "tensor([[0.5970, 0.4628, 0.5078, 0.1236, 0.8330],\n",
       "        [0.1324, 0.7196, 0.4224, 0.4750, 0.8384],\n",
       "        [0.3153, 0.8696, 0.5760, 0.3984, 0.3503],\n",
       "        [0.2640, 0.7219, 0.6604, 0.9009, 0.2830],\n",
       "        [0.4718, 0.7954, 0.7535, 0.5395, 0.5379]])"
      ]
     },
     "execution_count": 69,
     "metadata": {},
     "output_type": "execute_result"
    }
   ],
   "source": [
    "ex = torch.rand((5,5))\n",
    "ex.matrix_power(3); ex"
   ]
  },
  {
   "cell_type": "code",
   "execution_count": 70,
   "id": "5ca1773b",
   "metadata": {},
   "outputs": [
    {
     "data": {
      "text/plain": [
       "tensor([ 9, 16, 21])"
      ]
     },
     "execution_count": 70,
     "metadata": {},
     "output_type": "execute_result"
    }
   ],
   "source": [
    "z = x * y;z # element-wise "
   ]
  },
  {
   "cell_type": "code",
   "execution_count": 72,
   "id": "0243fd72",
   "metadata": {},
   "outputs": [
    {
     "data": {
      "text/plain": [
       "46"
      ]
     },
     "execution_count": 72,
     "metadata": {},
     "output_type": "execute_result"
    }
   ],
   "source": [
    "z = torch.dot(x,y); z.item()"
   ]
  },
  {
   "cell_type": "code",
   "execution_count": 74,
   "id": "4d342688",
   "metadata": {},
   "outputs": [
    {
     "data": {
      "text/plain": [
       "torch.Size([32, 10, 30])"
      ]
     },
     "execution_count": 74,
     "metadata": {},
     "output_type": "execute_result"
    }
   ],
   "source": [
    "# Batch matrix mult \n",
    "batch = 32\n",
    "n = 10\n",
    "m = 20\n",
    "p = 30 \n",
    "\n",
    "tensor1 = torch.rand((batch,n, m))\n",
    "tensor2 = torch.rand((batch,m,p))\n",
    "out = torch.bmm(tensor1, tensor2)\n",
    "out.shape"
   ]
  },
  {
   "cell_type": "code",
   "execution_count": 76,
   "id": "b157f18f",
   "metadata": {},
   "outputs": [
    {
     "data": {
      "text/plain": [
       "torch.Size([5, 5])"
      ]
     },
     "execution_count": 76,
     "metadata": {},
     "output_type": "execute_result"
    }
   ],
   "source": [
    "x1 = torch.rand((5,5))\n",
    "x2 = torch.rand((1,5))\n",
    "z = x1 - x2; z.shape"
   ]
  },
  {
   "cell_type": "code",
   "execution_count": 94,
   "id": "ea192500",
   "metadata": {},
   "outputs": [
    {
     "name": "stdout",
     "output_type": "stream",
     "text": [
      "tensor(3) tensor(2)\n"
     ]
    },
    {
     "data": {
      "text/plain": [
       "torch.return_types.sort(\n",
       "values=tensor([7, 8, 9]),\n",
       "indices=tensor([2, 1, 0]))"
      ]
     },
     "execution_count": 94,
     "metadata": {},
     "output_type": "execute_result"
    }
   ],
   "source": [
    "x = torch.tensor([1,2,3])\n",
    "y = torch.tensor([9,8,7])\n",
    "sum_x = torch.sum(x, dim=0); sum_x.item()\n",
    "val, ind = torch.max(x, dim=0); print(val, ind)\n",
    "# torch.abs(x)\n",
    "z = torch.argmax(x, dim=0);z\n",
    "z = torch.mean(x.float(), dim=0);z\n",
    "z = torch.eq(x, y);z\n",
    "torch.sort(y, dim=0, descending=False)"
   ]
  },
  {
   "cell_type": "code",
   "execution_count": 104,
   "id": "c7a2b799",
   "metadata": {},
   "outputs": [
    {
     "data": {
      "text/plain": [
       "tensor([2, 2, 3])"
      ]
     },
     "execution_count": 104,
     "metadata": {},
     "output_type": "execute_result"
    }
   ],
   "source": [
    "z = torch.clamp(x, min=2);z # less than zero 0, special case relu "
   ]
  },
  {
   "cell_type": "code",
   "execution_count": 107,
   "id": "accf8cab",
   "metadata": {},
   "outputs": [
    {
     "data": {
      "text/plain": [
       "tensor(False)"
      ]
     },
     "execution_count": 107,
     "metadata": {},
     "output_type": "execute_result"
    }
   ],
   "source": [
    "x = torch.tensor([1,0,1,1,1], dtype=torch.bool)\n",
    "z = torch.any(x);z\n",
    "z = torch.all(x);z"
   ]
  },
  {
   "cell_type": "code",
   "execution_count": 115,
   "id": "60c62bfe",
   "metadata": {},
   "outputs": [
    {
     "name": "stdout",
     "output_type": "stream",
     "text": [
      "torch.Size([10])\n",
      "torch.Size([10])\n"
     ]
    }
   ],
   "source": [
    "batch_size = 10\n",
    "features = 25\n",
    "x = torch.rand((batch_size, features))\n",
    "\n",
    "#print(x[0])\n",
    "#print(x[0, :])\n",
    "print(x[:, 0].shape)\n",
    "print(x[2, 0:10].shape)\n",
    " "
   ]
  },
  {
   "cell_type": "code",
   "execution_count": 116,
   "id": "1664a520",
   "metadata": {},
   "outputs": [
    {
     "data": {
      "text/plain": [
       "tensor([2, 5, 8])"
      ]
     },
     "execution_count": 116,
     "metadata": {},
     "output_type": "execute_result"
    }
   ],
   "source": [
    "x =  torch.arange(10)\n",
    "ind = [2, 5, 8]\n",
    "x[ind]"
   ]
  },
  {
   "cell_type": "code",
   "execution_count": 117,
   "id": "3a1f282d",
   "metadata": {},
   "outputs": [
    {
     "name": "stdout",
     "output_type": "stream",
     "text": [
      "tensor([0.2884, 0.8241])\n"
     ]
    }
   ],
   "source": [
    "x = torch.rand((3,5))\n",
    "rows = torch.tensor([1,0])\n",
    "cols = torch.tensor([4,0])\n",
    "print(x[rows, cols])"
   ]
  },
  {
   "cell_type": "code",
   "execution_count": 118,
   "id": "bfc50f6e",
   "metadata": {},
   "outputs": [
    {
     "name": "stdout",
     "output_type": "stream",
     "text": [
      "tensor([0, 1, 9])\n"
     ]
    }
   ],
   "source": [
    "x = torch.arange(10)\n",
    "print(x[(x<2) | (x >8)])"
   ]
  },
  {
   "cell_type": "code",
   "execution_count": 122,
   "id": "3b12d732",
   "metadata": {},
   "outputs": [
    {
     "name": "stdout",
     "output_type": "stream",
     "text": [
      "tensor([0, 2, 4, 6, 8])\n"
     ]
    }
   ],
   "source": [
    "print(x[x.remainder(2) == 0])"
   ]
  },
  {
   "cell_type": "code",
   "execution_count": 123,
   "id": "4b6c2448",
   "metadata": {},
   "outputs": [
    {
     "name": "stdout",
     "output_type": "stream",
     "text": [
      "tensor([0, 0, 0, 0, 0, 0, 6, 7, 8, 9])\n"
     ]
    }
   ],
   "source": [
    "print(torch.where(x > 5, x, 0))"
   ]
  },
  {
   "cell_type": "code",
   "execution_count": 126,
   "id": "906480c9",
   "metadata": {},
   "outputs": [
    {
     "name": "stdout",
     "output_type": "stream",
     "text": [
      "tensor([0, 1, 2, 3, 4])\n",
      "1\n",
      "10\n"
     ]
    }
   ],
   "source": [
    "print(torch.tensor([0,0,1,2,2,3,4]).unique())\n",
    "print(x.ndimension()) # Number of dimensions \n",
    "print(x.numel()) # Count elements "
   ]
  },
  {
   "cell_type": "code",
   "execution_count": 129,
   "id": "341fc92b",
   "metadata": {},
   "outputs": [
    {
     "data": {
      "text/plain": [
       "tensor([[0, 1, 2],\n",
       "        [3, 4, 5],\n",
       "        [6, 7, 8]])"
      ]
     },
     "execution_count": 129,
     "metadata": {},
     "output_type": "execute_result"
    }
   ],
   "source": [
    "x = torch.arange(9)\n",
    "x = x.view(3,3);x # contiguous tensors -> fast \n",
    "x = x.reshape(3,3);x # not matters else copy "
   ]
  },
  {
   "cell_type": "code",
   "execution_count": 134,
   "id": "6ff5f147",
   "metadata": {},
   "outputs": [],
   "source": [
    "y = x.t();y\n",
    "y = y.contiguous().view(9)"
   ]
  },
  {
   "cell_type": "code",
   "execution_count": 137,
   "id": "a68fccfa",
   "metadata": {},
   "outputs": [
    {
     "name": "stdout",
     "output_type": "stream",
     "text": [
      "tensor([[0.9255, 0.2701, 0.9213, 0.9933, 0.9970],\n",
      "        [0.5923, 0.3564, 0.1138, 0.1134, 0.7432]]) \n",
      " tensor([[0.0205, 0.4603, 0.6192, 0.2641, 0.6181],\n",
      "        [0.7902, 0.8375, 0.7002, 0.7641, 0.2045]])\n",
      "torch.Size([4, 5])\n",
      "torch.Size([2, 10])\n"
     ]
    }
   ],
   "source": [
    "x1 = torch.rand((2,5))\n",
    "x2 = torch.rand((2,5))\n",
    "print(x1,\"\\n\",x2)\n",
    "print(torch.cat((x1,x2), dim=0).shape)\n",
    "print(torch.cat((x1,x2), dim=1).shape)"
   ]
  },
  {
   "cell_type": "code",
   "execution_count": 138,
   "id": "becfaf63",
   "metadata": {},
   "outputs": [
    {
     "data": {
      "text/plain": [
       "torch.Size([10])"
      ]
     },
     "execution_count": 138,
     "metadata": {},
     "output_type": "execute_result"
    }
   ],
   "source": [
    "z = x1.view(-1);z.shape"
   ]
  },
  {
   "cell_type": "code",
   "execution_count": 139,
   "id": "cb40bc67",
   "metadata": {},
   "outputs": [
    {
     "data": {
      "text/plain": [
       "torch.Size([64, 10])"
      ]
     },
     "execution_count": 139,
     "metadata": {},
     "output_type": "execute_result"
    }
   ],
   "source": [
    "batch = 64\n",
    "x = torch.rand((batch, 2, 5))\n",
    "z = x.view(batch,-1); z.shape\n"
   ]
  },
  {
   "cell_type": "code",
   "execution_count": 140,
   "id": "b878249a",
   "metadata": {},
   "outputs": [
    {
     "data": {
      "text/plain": [
       "torch.Size([64, 5, 2])"
      ]
     },
     "execution_count": 140,
     "metadata": {},
     "output_type": "execute_result"
    }
   ],
   "source": [
    "z = x.permute(0, 2, 1); z.shape"
   ]
  },
  {
   "cell_type": "code",
   "execution_count": 145,
   "id": "b98d8b38",
   "metadata": {},
   "outputs": [
    {
     "name": "stdout",
     "output_type": "stream",
     "text": [
      "torch.Size([1, 10])\n",
      "torch.Size([10])\n",
      "torch.Size([10, 1])\n",
      "torch.Size([10])\n"
     ]
    }
   ],
   "source": [
    "x = torch.arange(10) # [10]\n",
    "print(x.unsqueeze(0).shape)\n",
    "print(x.unsqueeze(0).squeeze().shape)\n",
    "print(x.unsqueeze(1).shape)\n",
    "print(x.unsqueeze(0).unsqueeze(1).squeeze().squeeze().shape)\n"
   ]
  },
  {
   "cell_type": "code",
   "execution_count": null,
   "id": "1a352559",
   "metadata": {},
   "outputs": [],
   "source": []
  }
 ],
 "metadata": {
  "kernelspec": {
   "display_name": "Python 3 (ipykernel)",
   "language": "python",
   "name": "python3"
  },
  "language_info": {
   "codemirror_mode": {
    "name": "ipython",
    "version": 3
   },
   "file_extension": ".py",
   "mimetype": "text/x-python",
   "name": "python",
   "nbconvert_exporter": "python",
   "pygments_lexer": "ipython3",
   "version": "3.8.10"
  }
 },
 "nbformat": 4,
 "nbformat_minor": 5
}

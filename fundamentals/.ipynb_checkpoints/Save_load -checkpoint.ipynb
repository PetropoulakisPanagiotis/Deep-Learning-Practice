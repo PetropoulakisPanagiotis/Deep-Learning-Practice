{
 "cells": [
  {
   "cell_type": "code",
   "execution_count": 48,
   "id": "97638558",
   "metadata": {},
   "outputs": [],
   "source": [
    "device = \"cuda\"\n",
    "input_size = 28#784\n",
    "num_classes = 10\n",
    "learning_rate = 0.001\n",
    "batch_size = 64\n",
    "num_epochs = 2\n",
    "sequence_length = 28 \n",
    "num_layers = 2\n",
    "hidden_size = 256 \n",
    "# Nx1x28x28"
   ]
  },
  {
   "cell_type": "code",
   "execution_count": 49,
   "id": "3efdc047",
   "metadata": {},
   "outputs": [],
   "source": [
    "import torch\n",
    "import torch.nn as nn\n",
    "import torch.optim as optim\n",
    "import torch.nn.functional as F # actvs no params \n",
    "from torch.utils.data import DataLoader\n",
    "import torchvision.datasets as datasets\n",
    "import torchvision.transforms as transforms\n",
    "\n",
    "import matplotlib.pyplot as plt"
   ]
  },
  {
   "cell_type": "code",
   "execution_count": 50,
   "id": "941d31e6",
   "metadata": {},
   "outputs": [],
   "source": [
    "\n",
    "# https://www.youtube.com/watch?v=D-a6dwXzJ6s\n",
    "# https://blog.paperspace.com/bidirectional-rnn-keras/#:~:text=A%20Bidirectional%20RNN%20is%20a,learning%20to%20past%20and%20present.\n",
    "\n",
    "# https://ai.stackexchange.com/questions/20075/why-does-the-transformer-do-better-than-rnn-and-lstm-in-long-range-context-depen\n",
    "# https://medium.com/analytics-vidhya/why-are-lstms-struggling-to-matchup-with-transformers-a1cc5b2557e3\n",
    "class BRNN(nn.Module):\n",
    "    def __init__(self, input_size, hidden_size, num_layers, num_classes):\n",
    "        super(BRNN, self).__init__()  \n",
    "        \n",
    "        self.hidden_size = hidden_size\n",
    "        self.num_layers = num_layers\n",
    "        \n",
    "        #self.rnn = nn.RNN(input_size, hidden_size, num_layers, batch_first=True)\n",
    "        self.lstm = nn.LSTM(input_size, hidden_size, num_layers, batch_first=True, bidirectional=True)\n",
    "\n",
    "        #self.fc = nn.Linear(hidden_size*sequence_length, num_classes)\n",
    "        self.fc = nn.Linear(hidden_size*2, num_classes)\n",
    "    \n",
    "    def forward(self, x):\n",
    "        # Hidden state\n",
    "        # torch.Size([64, 28, 28])\n",
    "        # Think liner for 28 \n",
    "        h0 = torch.zeros(self.num_layers*2, x.size(0), self.hidden_size).to(device)\n",
    "        c0 = torch.zeros(self.num_layers*2, x.size(0), self.hidden_size).to(device)\n",
    "\n",
    "        out, _ = self.lstm(x, (h0, c0))\n",
    "        # N X 28 X 256(*x2 due to bidirectionality) -> Use info for every hidden state \n",
    "        \n",
    "        \n",
    "        #out = out.reshape(out.shape[0], -1)\n",
    "        #out = self.fc(out)\n",
    "        out = self.fc(out[:,-1,:]) # Last hidden state \n",
    "        \n",
    "        return out"
   ]
  },
  {
   "cell_type": "code",
   "execution_count": 51,
   "id": "3bffe90c",
   "metadata": {},
   "outputs": [
    {
     "data": {
      "text/plain": [
       "[<matplotlib.lines.Line2D at 0x7fcbc03e30a0>]"
      ]
     },
     "execution_count": 51,
     "metadata": {},
     "output_type": "execute_result"
    },
    {
     "data": {
      "image/png": "[encoded data removed]",
      "text/plain": [
       "<Figure size 640x480 with 1 Axes>"
      ]
     },
     "metadata": {},
     "output_type": "display_data"
    }
   ],
   "source": [
    "\n",
    "train_dataset = datasets.MNIST(root=\"./dataset\", train=True, transform=transforms.ToTensor(), download=True)\n",
    "train_loader = DataLoader(dataset=train_dataset, batch_size=batch_size, shuffle=True)\n",
    "\n",
    "test_dataset = datasets.MNIST(root=\"./dataset\", train=False, transform=transforms.ToTensor(), download=True)\n",
    "test_loader = DataLoader(dataset=test_dataset, batch_size=batch_size, shuffle=True)\n",
    "\n",
    "\n",
    "model = BRNN(input_size, hidden_size, num_layers, num_classes)\n",
    "\n",
    "model.to(device)\n",
    "\n",
    "\n",
    "criterion = nn.CrossEntropyLoss()\n",
    "optimizer = optim.Adam(model.parameters(), lr=learning_rate)\n",
    "lossi = []\n",
    "\n",
    "def save_checkpoint(state, filename=\"my_checkpoint.pth.tar\"):\n",
    "    torch.save(state, filename)\n",
    "\n",
    "def load_checkpoint(checkpoint):\n",
    "    model.load_state_dict(checkpoint['state_dict'])\n",
    "    optimizer.load_state_dict(checkpoint['optimizer'])\n",
    "\n",
    "for epoch in range(num_epochs):\n",
    "    \n",
    "    checkpoint = {'state_dict': model.state_dict(), 'optimizer': optimizer.state_dict()}\n",
    "\n",
    "    save_checkpoint(checkpoint)\n",
    "    load_checkpoint(torch.load(\"my_checkpoint.pth.tar\"))\n",
    "    \n",
    "    for batch_idx, (data, targets) in enumerate(train_loader):\n",
    "        data = data.to(device=device)\n",
    "        targets = targets.to(device=device)\n",
    "        \n",
    "        #data = data.reshape(data.shape[0], -1) # 64, 1, 28, 28 -> (64, x) for FC \n",
    "        data = data.squeeze(1)        \n",
    "        scores = model(data)\n",
    "\n",
    "        loss = criterion(scores, targets)\n",
    "        \n",
    "        optimizer.zero_grad()\n",
    "        loss.backward()\n",
    "        lossi.append(loss.item())        \n",
    "        optimizer.step()\n",
    "        \n",
    "plt.plot(torch.tensor(lossi).view(-1, 2).mean(1))       "
   ]
  },
  {
   "cell_type": "code",
   "execution_count": 52,
   "id": "23c601b7",
   "metadata": {},
   "outputs": [
    {
     "name": "stdout",
     "output_type": "stream",
     "text": [
      "train\n",
      "97.77666666666667\n",
      "test\n",
      "97.66\n"
     ]
    }
   ],
   "source": [
    "def acc(loader, model):\n",
    "    if loader.dataset.train:\n",
    "        print(\"train\")\n",
    "    else:\n",
    "        print(\"test\")\n",
    "        \n",
    "    num_corr = 0\n",
    "    num_samples = 0\n",
    "    model.eval()\n",
    "    \n",
    "    with torch.no_grad():\n",
    "        for batch_idx, (data, targets) in enumerate(loader):\n",
    "            data = data.to(device=device)\n",
    "            targets = targets.to(device=device)\n",
    "\n",
    "            #data = data.reshape(data.shape[0], -1)\n",
    "            data = data.squeeze(1)\n",
    "            scores = model(data)\n",
    "\n",
    "            _, preds = scores.max(dim=1)\n",
    "            num_corr += (preds==targets).sum().item()\n",
    "            num_samples += preds.size(0)\n",
    "    \n",
    "    print(num_corr/num_samples * 100)\n",
    "    \n",
    "    model.train()\n",
    "    \n",
    "acc(train_loader, model)\n",
    "acc(test_loader, model)"
   ]
  },
  {
   "cell_type": "code",
   "execution_count": null,
   "id": "fb4cd6e8",
   "metadata": {},
   "outputs": [],
   "source": []
  },
  {
   "cell_type": "code",
   "execution_count": null,
   "id": "48559848",
   "metadata": {},
   "outputs": [],
   "source": []
  }
 ],
 "metadata": {
  "kernelspec": {
   "display_name": "Python 3 (ipykernel)",
   "language": "python",
   "name": "python3"
  },
  "language_info": {
   "codemirror_mode": {
    "name": "ipython",
    "version": 3
   },
   "file_extension": ".py",
   "mimetype": "text/x-python",
   "name": "python",
   "nbconvert_exporter": "python",
   "pygments_lexer": "ipython3",
   "version": "3.9.13"
  }
 },
 "nbformat": 4,
 "nbformat_minor": 5
}
